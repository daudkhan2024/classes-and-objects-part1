{
 "cells": [
  {
   "cell_type": "code",
   "execution_count": 1,
   "id": "3d60b3ae",
   "metadata": {},
   "outputs": [],
   "source": [
    "class car:\n",
    "    pass\n",
    "    "
   ]
  },
  {
   "cell_type": "code",
   "execution_count": 2,
   "id": "127182a6",
   "metadata": {},
   "outputs": [],
   "source": [
    "audi6 = car()"
   ]
  },
  {
   "cell_type": "code",
   "execution_count": 3,
   "id": "8441d6b3",
   "metadata": {},
   "outputs": [],
   "source": [
    "audi6.milage = 20\n",
    "audi6.year =2022\n",
    "audi6.make=10\n",
    "audi6.model=\"super sonic\"\n",
    "\n"
   ]
  },
  {
   "cell_type": "code",
   "execution_count": 4,
   "id": "cba917e4",
   "metadata": {},
   "outputs": [
    {
     "data": {
      "text/plain": [
       "20"
      ]
     },
     "execution_count": 4,
     "metadata": {},
     "output_type": "execute_result"
    }
   ],
   "source": [
    "audi6.milage"
   ]
  },
  {
   "cell_type": "code",
   "execution_count": 5,
   "id": "fd4ef683",
   "metadata": {},
   "outputs": [
    {
     "data": {
      "text/plain": [
       "'super sonic'"
      ]
     },
     "execution_count": 5,
     "metadata": {},
     "output_type": "execute_result"
    }
   ],
   "source": [
    "audi6.model"
   ]
  },
  {
   "cell_type": "code",
   "execution_count": 6,
   "id": "20edb02c",
   "metadata": {},
   "outputs": [],
   "source": [
    "mini=car()"
   ]
  },
  {
   "cell_type": "code",
   "execution_count": 7,
   "id": "eb60637c",
   "metadata": {},
   "outputs": [],
   "source": [
    "mini.engine=34656\n",
    "mini.milage=44\n",
    "mini.color=\"blue\""
   ]
  },
  {
   "cell_type": "code",
   "execution_count": 8,
   "id": "3e480352",
   "metadata": {},
   "outputs": [
    {
     "name": "stdout",
     "output_type": "stream",
     "text": [
      "44 20\n"
     ]
    }
   ],
   "source": [
    "print(mini.milage,audi6.milage)"
   ]
  },
  {
   "cell_type": "code",
   "execution_count": 9,
   "id": "5521cddb",
   "metadata": {},
   "outputs": [],
   "source": [
    "#THis was a bad way of coding"
   ]
  },
  {
   "cell_type": "code",
   "execution_count": 10,
   "id": "353d0e66",
   "metadata": {},
   "outputs": [],
   "source": [
    "class car:\n",
    "    def __init__(self, milage, year, make, color):\n",
    "        self.milage = milage\n",
    "        self.year = year\n",
    "        self.make = make\n",
    "        self.color = color\n",
    "    "
   ]
  },
  {
   "cell_type": "code",
   "execution_count": 11,
   "id": "e9cdd607",
   "metadata": {},
   "outputs": [],
   "source": [
    "nano1 = car(20,34,55,\"blue\")"
   ]
  },
  {
   "cell_type": "code",
   "execution_count": 12,
   "id": "84152877",
   "metadata": {},
   "outputs": [],
   "source": [
    "audi1 = car(235,45,65,\"grey\")\n",
    "audi2 = car(2343,445,65,\"green\")\n",
    "audi3 = car(23,45,63,\"yellow\")\n",
    "audi4 = car(243,455,653,\"red\")\n",
    "audi5 = car(273,465,65,\"grey\")\n",
    "audi6 = car(235,485,665,\"pink\")\n"
   ]
  },
  {
   "cell_type": "code",
   "execution_count": 13,
   "id": "a1c3ff4a",
   "metadata": {},
   "outputs": [
    {
     "data": {
      "text/plain": [
       "20"
      ]
     },
     "execution_count": 13,
     "metadata": {},
     "output_type": "execute_result"
    }
   ],
   "source": [
    "nano1.milage"
   ]
  },
  {
   "cell_type": "code",
   "execution_count": 14,
   "id": "485ba6bb",
   "metadata": {},
   "outputs": [
    {
     "data": {
      "text/plain": [
       "55"
      ]
     },
     "execution_count": 14,
     "metadata": {},
     "output_type": "execute_result"
    }
   ],
   "source": [
    "nano1.make"
   ]
  },
  {
   "cell_type": "code",
   "execution_count": 15,
   "id": "06741e15",
   "metadata": {},
   "outputs": [
    {
     "data": {
      "text/plain": [
       "'red'"
      ]
     },
     "execution_count": 15,
     "metadata": {},
     "output_type": "execute_result"
    }
   ],
   "source": [
    "audi4.color\n"
   ]
  },
  {
   "cell_type": "code",
   "execution_count": 16,
   "id": "08d26eb7",
   "metadata": {},
   "outputs": [],
   "source": [
    "class car:\n",
    "    def __init__(b, milage, year, make, color):\n",
    "                b.milage = milage\n",
    "                b.year = year\n",
    "                b.make = make\n",
    "                b.color = color\n",
    "    "
   ]
  },
  {
   "cell_type": "code",
   "execution_count": 17,
   "id": "7ab913a5",
   "metadata": {},
   "outputs": [],
   "source": [
    "mini50 = car(20,2023,22,\"red\")"
   ]
  },
  {
   "cell_type": "code",
   "execution_count": 18,
   "id": "0641c923",
   "metadata": {},
   "outputs": [
    {
     "data": {
      "text/plain": [
       "'red'"
      ]
     },
     "execution_count": 18,
     "metadata": {},
     "output_type": "execute_result"
    }
   ],
   "source": [
    "mini50.color"
   ]
  },
  {
   "cell_type": "code",
   "execution_count": 19,
   "id": "e3bba2a0",
   "metadata": {},
   "outputs": [],
   "source": [
    "class car:\n",
    "    def __init__(b, m, ye, ma, c):\n",
    "                b.milage = m\n",
    "                b.year = ye\n",
    "                b.make = ma\n",
    "                b.color = c\n",
    "                \n",
    "    def age(self,current_year):\n",
    "        return current_year - self.year\n",
    "    \n",
    "    def milage1(self):\n",
    "        print(\"print a milage of car \",self.milage)\n",
    "        #return self.milage\n",
    "    def __str__(c):\n",
    "        return \"this is my car class i have created\""
   ]
  },
  {
   "cell_type": "code",
   "execution_count": 20,
   "id": "17e7635f",
   "metadata": {},
   "outputs": [],
   "source": [
    "cooper=car(23,5,5,\"green\")"
   ]
  },
  {
   "cell_type": "code",
   "execution_count": 21,
   "id": "5ab09e1b",
   "metadata": {},
   "outputs": [
    {
     "data": {
      "text/plain": [
       "'green'"
      ]
     },
     "execution_count": 21,
     "metadata": {},
     "output_type": "execute_result"
    }
   ],
   "source": [
    "cooper.color"
   ]
  },
  {
   "cell_type": "code",
   "execution_count": 22,
   "id": "fd6ce664",
   "metadata": {},
   "outputs": [
    {
     "data": {
      "text/plain": [
       "2017"
      ]
     },
     "execution_count": 22,
     "metadata": {},
     "output_type": "execute_result"
    }
   ],
   "source": [
    "cooper.age(2022)"
   ]
  },
  {
   "cell_type": "code",
   "execution_count": 23,
   "id": "a3f58509",
   "metadata": {},
   "outputs": [
    {
     "name": "stdout",
     "output_type": "stream",
     "text": [
      "print a milage of car  23\n"
     ]
    }
   ],
   "source": [
    "  cooper.milage1()"
   ]
  },
  {
   "cell_type": "code",
   "execution_count": 24,
   "id": "d2a90d54",
   "metadata": {},
   "outputs": [
    {
     "data": {
      "text/plain": [
       "<__main__.car at 0x7fc0483b7a60>"
      ]
     },
     "execution_count": 24,
     "metadata": {},
     "output_type": "execute_result"
    }
   ],
   "source": [
    "cooper # it is going to print a default address value"
   ]
  },
  {
   "cell_type": "code",
   "execution_count": 25,
   "id": "cffd5304",
   "metadata": {},
   "outputs": [],
   "source": [
    "# i want if i call this object so it will give me a messege so lets \n",
    "# do an inbuild method called __str__  use for instructions also\n",
    "#so anyone can print object and they can see description"
   ]
  },
  {
   "cell_type": "code",
   "execution_count": 26,
   "id": "e43b90f6",
   "metadata": {},
   "outputs": [
    {
     "name": "stdout",
     "output_type": "stream",
     "text": [
      "this is my car class i have created\n"
     ]
    }
   ],
   "source": [
    "print(cooper)# recieve messsege now using __str__ inbuilt method"
   ]
  },
  {
   "cell_type": "code",
   "execution_count": 27,
   "id": "bfb45138",
   "metadata": {},
   "outputs": [],
   "source": [
    "# task\n",
    "# we will create a class which will store email and passward etc in it"
   ]
  },
  {
   "cell_type": "code",
   "execution_count": 28,
   "id": "6ee70799",
   "metadata": {},
   "outputs": [],
   "source": [
    "class student:\n",
    "    def __init__(self,name,rollnumber,joining_date,current_topic):\n",
    "        self.name = name\n",
    "        self.rollnumber = rollnumber\n",
    "        self.joining_date = joining_date\n",
    "        self.current_topic = current_topic\n",
    "    \n",
    "    \n",
    "    def name_Parsing(self):\n",
    "        if type(self.name) == list:\n",
    "            for i in self.name:\n",
    "                print(\"name of the student is \",i)\n",
    "                \n",
    "        else:\n",
    "            print(\"provided name is not found in form of list\")\n",
    "    \n",
    "    def crt_topic(self):\n",
    "        print(\"current topic is making \",self.current_topic)\n",
    "        \n",
    "        \n",
    "    def srt_rollnumber(self):\n",
    "        try:\n",
    "            \n",
    "            if type(self.rollnumber) == str:\n",
    "                print(\"do nothing\")\n",
    "        \n",
    "            else:\n",
    "                return str(self.rollnumber)\n",
    "        except Exception as e:\n",
    "            print(\"this is my error msg\",e)\n",
    "        \n",
    "    def duration(self,current_date):\n",
    "        print(\"duration of student is \",current_date - self.joining_date)\n",
    "        \n",
    "    def __str__(self):\n",
    "        \n",
    "        \n",
    "        return \"this is a student class where they can try to input their own data \"\n",
    "    \n",
    "    \n",
    "    \n",
    "    \n",
    "        "
   ]
  },
  {
   "cell_type": "code",
   "execution_count": 29,
   "id": "96677165",
   "metadata": {},
   "outputs": [],
   "source": [
    "khan = student(\"khan\",232,2022,\"opps\")"
   ]
  },
  {
   "cell_type": "code",
   "execution_count": 30,
   "id": "ac6ee230",
   "metadata": {},
   "outputs": [
    {
     "name": "stdout",
     "output_type": "stream",
     "text": [
      "duration of student is  0\n"
     ]
    }
   ],
   "source": [
    "khan.duration(2022)"
   ]
  },
  {
   "cell_type": "code",
   "execution_count": 31,
   "id": "68d36175",
   "metadata": {},
   "outputs": [
    {
     "data": {
      "text/plain": [
       "'232'"
      ]
     },
     "execution_count": 31,
     "metadata": {},
     "output_type": "execute_result"
    }
   ],
   "source": [
    "khan.srt_rollnumber()"
   ]
  },
  {
   "cell_type": "code",
   "execution_count": 32,
   "id": "87e38253",
   "metadata": {},
   "outputs": [
    {
     "name": "stdout",
     "output_type": "stream",
     "text": [
      "this is a student class where they can try to input their own data \n"
     ]
    }
   ],
   "source": [
    "print(khan)"
   ]
  },
  {
   "cell_type": "code",
   "execution_count": 33,
   "id": "eae40ac1",
   "metadata": {},
   "outputs": [],
   "source": [
    "shayan = student(\"ahmad\",232,2023,\"chemistry\")"
   ]
  },
  {
   "cell_type": "code",
   "execution_count": 34,
   "id": "62b30207",
   "metadata": {},
   "outputs": [
    {
     "name": "stdout",
     "output_type": "stream",
     "text": [
      "duration of student is  -1\n"
     ]
    }
   ],
   "source": [
    "shayan.duration(2022)"
   ]
  },
  {
   "cell_type": "code",
   "execution_count": 35,
   "id": "41d677a4",
   "metadata": {},
   "outputs": [
    {
     "data": {
      "text/plain": [
       "'232'"
      ]
     },
     "execution_count": 35,
     "metadata": {},
     "output_type": "execute_result"
    }
   ],
   "source": [
    "shayan.srt_rollnumber()"
   ]
  },
  {
   "cell_type": "code",
   "execution_count": 36,
   "id": "64227349",
   "metadata": {},
   "outputs": [],
   "source": [
    "alex = student([\"jason\",\"micheal\"],[23,45],2021,\"oops\")"
   ]
  },
  {
   "cell_type": "code",
   "execution_count": 37,
   "id": "f87c1d27",
   "metadata": {},
   "outputs": [
    {
     "name": "stdout",
     "output_type": "stream",
     "text": [
      "name of the student is  jason\n",
      "name of the student is  micheal\n"
     ]
    }
   ],
   "source": [
    "alex.name_Parsing()"
   ]
  }
 ],
 "metadata": {
  "kernelspec": {
   "display_name": "Python 3 (ipykernel)",
   "language": "python",
   "name": "python3"
  },
  "language_info": {
   "codemirror_mode": {
    "name": "ipython",
    "version": 3
   },
   "file_extension": ".py",
   "mimetype": "text/x-python",
   "name": "python",
   "nbconvert_exporter": "python",
   "pygments_lexer": "ipython3",
   "version": "3.9.12"
  }
 },
 "nbformat": 4,
 "nbformat_minor": 5
}
